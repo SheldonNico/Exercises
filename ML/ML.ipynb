{
 "cells": [
  {
   "cell_type": "code",
   "execution_count": 1,
   "metadata": {},
   "outputs": [],
   "source": [
    "from mxnet import ndarray as nd\n",
    "from mxnet import autograd as ag\n",
    "from mxnet import gluon\n",
    "import mxnet as mx\n",
    "import matplotlib.pyplot as plt\n",
    "import numpy as np\n",
    "import random\n",
    "\n",
    "%matplotlib inline"
   ]
  },
  {
   "cell_type": "code",
   "execution_count": null,
   "metadata": {},
   "outputs": [],
   "source": [
    "plt.scatter(X[:, 1].asnumpy(), y.asnumpy(), label=\"test\")\n",
    "plt.scatter(X[:, 1].asnumpy(), y.asnumpy(), label=\"test2\")\n",
    "plt.legend()"
   ]
  },
  {
   "cell_type": "code",
   "execution_count": null,
   "metadata": {},
   "outputs": [],
   "source": [
    "num_inputs = 2\n",
    "num_examples = 2000\n",
    "\n",
    "true_w = [4, -3.4]\n",
    "true_b = 4.2\n",
    "\n",
    "def f(X, w, b):\n",
    "    y = nd.zeros(X.shape[0]) + b\n",
    "    for i in range(X.shape[1]):\n",
    "        y += true_w[i] * X[:, i]\n",
    "    return y\n",
    "    \n",
    "X = nd.random_normal(shape=(num_examples, num_inputs))\n",
    "y = f(X, true_w, true_b)\n",
    "\n",
    "def data_iter(batch_size):\n",
    "    idx = np.arange(num_examples)\n",
    "    random.shuffle(idx)\n",
    "    \n",
    "    for i in np.arange(0, num_examples, batch_size):\n",
    "        index = nd.array(idx[i:min(i+batch_size, num_examples)])\n",
    "        yield nd.take(X, index), nd.take(y, index)\n",
    "\n",
    "w = nd.random_normal(shape=(num_inputs, 1))\n",
    "b = nd.zeros((1,))\n",
    "\n",
    "params = [w, b]\n",
    "for param in params:\n",
    "    param.attach_grad()\n",
    "    \n",
    "def net(X):\n",
    "    return nd.dot(X, w) + b\n",
    "\n",
    "def loss(yhat, y):\n",
    "    # return nd.power(yhat-y, 2)\n",
    "    return (yhat - y.reshape(yhat.shape))**2\n",
    "\n",
    "def SGD(params, lr):\n",
    "    for param in params:\n",
    "        param[:] = param - lr * param.grad\n",
    "\n",
    "def plot_res(losses, data, output, label):\n",
    "    f, (fig1, fig2) = plt.subplots(1, 2)\n",
    "    fig1.set_title(\"Loss during training\")\n",
    "    fig1.plot(np.arange(len(losses)), losses)\n",
    "    \n",
    "    fig2.set_title(\"Estimated vs real function\")\n",
    "    fig2.plot(data.asnumpy(), output.asnumpy(), \"or\", label=\"Estimated\")\n",
    "    fig2.plot(data.asnumpy(), label.asnumpy(), \"*g\", label=\"Real\")\n",
    "    fig2.legend()\n",
    "    plt.show()\n",
    "    \n",
    "epoches = 5\n",
    "learning_rate = 0.001\n",
    "moving_ratio = 0.01\n",
    "moving_loss = 0\n",
    "losses = []\n",
    "niter = 0\n",
    "\n",
    "for e in range(epoches):\n",
    "    total_loss = 0\n",
    "    \n",
    "    for data, label in data_iter(10):\n",
    "        with ag.record():\n",
    "            output = net(data)\n",
    "            # print(output.shape, label.shape)\n",
    "            res = loss(output, label)\n",
    "        res.backward()\n",
    "        SGD(params, learning_rate)\n",
    "        total_loss += res.sum().asscalar()\n",
    "        niter += 1\n",
    "        \n",
    "        cur_loss = res.mean().asscalar()\n",
    "        moving_loss = (1-moving_ratio) * moving_loss + moving_ratio * cur_loss\n",
    "        est_loss = moving_loss / (1 - (1-moving_ratio)**niter)\n",
    "        \n",
    "        \n",
    "        if niter % 200 == 0:\n",
    "            losses.append(est_loss)\n",
    "            print(\"Epoch {}, batch {}, Moving avg of loss {}, Average loss {}\".format(\n",
    "                e, niter, moving_loss, total_loss/num_examples))\n",
    "            plot_res(losses, data[:, 1], output, label)\n",
    "\n",
    "print(w.asnumpy(), true_w)\n",
    "print(b.asnumpy(), true_b)"
   ]
  },
  {
   "cell_type": "code",
   "execution_count": null,
   "metadata": {},
   "outputs": [],
   "source": [
    "num_inputs = 2\n",
    "num_examples = 2000\n",
    "\n",
    "true_w = [4, -3.4]\n",
    "true_b = 4.2\n",
    "\n",
    "def f(X, w, b):\n",
    "    y = nd.zeros(X.shape[0]) + b\n",
    "    for i in range(X.shape[1]):\n",
    "        y += true_w[i] * X[:, i]\n",
    "    return y\n",
    "    \n",
    "X = nd.random_normal(shape=(num_examples, num_inputs))\n",
    "y = f(X, true_w, true_b)\n",
    "\n",
    "batch_size = 10\n",
    "dataset = gluon.data.ArrayDataset(X, y)\n",
    "data_iter = gluon.data.DataLoader(dataset, batch_size, shuffle=True)\n",
    "\n",
    "net = gluon.nn.Sequential()\n",
    "net.add(gluon.nn.Dense(1))\n",
    "\n",
    "square_loss = gluon.loss.L2Loss()\n",
    "\n",
    "net.initialize()\n",
    "trainer = gluon.Trainer(net.collect_params(), 'sgd', {'learning_rate': 0.1})\n",
    "\n",
    "epochs = 5\n",
    "for e in range(epoches):\n",
    "    total_loss = 0\n",
    "    for data, label in data_iter:\n",
    "        with ag.record():\n",
    "            output = net(data)\n",
    "            loss = square_loss(output, label)\n",
    "        loss.backward()\n",
    "        trainer.step(batch_size)\n",
    "        total_loss += loss.sum().asscalar()\n",
    "    print(\"Epoch {}, average loss {}\".format(e, total_loss/num_examples))\n",
    "\n",
    "print(net[0].weight.data(), w)\n",
    "print(net[0].bias.data(), b)"
   ]
  },
  {
   "cell_type": "code",
   "execution_count": null,
   "metadata": {},
   "outputs": [],
   "source": [
    "gluon.data.ArrayDataset?"
   ]
  },
  {
   "cell_type": "markdown",
   "metadata": {},
   "source": [
    "## 多类逻辑回归"
   ]
  },
  {
   "cell_type": "code",
   "execution_count": 2,
   "metadata": {},
   "outputs": [],
   "source": [
    "def transform(data, label):\n",
    "    return data.astype('float32')/255, label.astype('float32')\n",
    "mnist_train = gluon.data.vision.FashionMNIST(train=True, transform=transform)\n",
    "mnist_test = gluon.data.vision.FashionMNIST(train=False, transform=transform)"
   ]
  },
  {
   "cell_type": "code",
   "execution_count": 7,
   "metadata": {},
   "outputs": [
    {
     "data": {
      "image/png": "[encoded data removed]",
      "text/plain": [
       "<matplotlib.figure.Figure at 0x7f1489796ba8>"
      ]
     },
     "metadata": {},
     "output_type": "display_data"
    },
    {
     "name": "stdout",
     "output_type": "stream",
     "text": [
      "['t-shirt', 'bag', 'ankle boot', 't-shirt', 'pullover', 'pullover', 'ankle boot', 'dress,', 'dress,', 'dress,']\n"
     ]
    }
   ],
   "source": [
    "def show_images(images):\n",
    "    n = images.shape[0]\n",
    "    _, figs = plt.subplots(1, n, figsize=(15, 15))\n",
    "    for fig, data in zip(figs, images):\n",
    "        fig.imshow(data.reshape((28, 28)).asnumpy())\n",
    "        fig.axes.get_xaxis().set_visible(False)\n",
    "        fig.axes.get_yaxis().set_visible(False)\n",
    "        \n",
    "    plt.show()\n",
    "\n",
    "def get_text_labels(label):\n",
    "    text_labels = [\n",
    "        't-shirt', 'trouser', 'pullover', 'dress,', 'coat',\n",
    "        'sandal', 'shirt', 'sneaker', 'bag', 'ankle boot'\n",
    "    ]\n",
    "    return [text_labels[int(i)] for i in label]\n",
    "\n",
    "data, label = mnist_train[10:20]\n",
    "show_images(data)\n",
    "print(get_text_labels(label))"
   ]
  },
  {
   "cell_type": "code",
   "execution_count": 5,
   "metadata": {},
   "outputs": [
    {
     "name": "stdout",
     "output_type": "stream",
     "text": [
      "Epoch 0. Loss: 3.944842, Train acc 0.439223, Test acc 0.589378\n",
      "Epoch 1. Loss: 1.957381, Train acc 0.628208, Test acc 0.657048\n",
      "Epoch 2. Loss: 1.617946, Train acc 0.674474, Test acc 0.687760\n",
      "Epoch 3. Loss: 1.432703, Train acc 0.699457, Test acc 0.709857\n",
      "Epoch 4. Loss: 1.310917, Train acc 0.715376, Test acc 0.724695\n"
     ]
    }
   ],
   "source": [
    "batch_size = 256\n",
    "\n",
    "train_data = gluon.data.DataLoader(mnist_train, batch_size=batch_size, shuffle=True)\n",
    "test_data = gluon.data.DataLoader(mnist_train, batch_size=batch_size, shuffle=False)\n",
    "\n",
    "num_inputs = 28*28\n",
    "num_outputs = 10\n",
    "\n",
    "# mx.random.seed()\n",
    "W = nd.random_normal(shape=(num_inputs, num_outputs))\n",
    "b = nd.random_normal(shape=(num_outputs))\n",
    "params = [W, b]\n",
    "\n",
    "for param in params:\n",
    "    param.attach_grad()\n",
    "    \n",
    "def softmax(X):\n",
    "    exp = nd.exp(X)\n",
    "    partition = nd.sum(exp, axis=1, keepdims=True)\n",
    "    return exp / partition\n",
    "\n",
    "def net(X):\n",
    "    return softmax(nd.dot(X.reshape((-1, num_inputs)), W) + b)\n",
    "\n",
    "def cross_entropy(yhat, y):\n",
    "    return -nd.pick(nd.log(yhat), y)\n",
    "\n",
    "def SGD(params, lr):\n",
    "    for param in params:\n",
    "        param[:] = param - lr * param.grad\n",
    "\n",
    "def accuracy(output, label):\n",
    "    return nd.mean(output.argmax(axis=1) == label).asscalar()\n",
    "\n",
    "def evaluate_accruacy(data_iterator, net):\n",
    "    acc = 0.\n",
    "    for data, label in data_iterator:\n",
    "        output = net(data)\n",
    "        acc += accuracy(output, label)\n",
    "    return acc / len(data_iterator)\n",
    "\n",
    "learning_ratio = 0.1\n",
    "epochs = 5\n",
    "for e in range(epochs):\n",
    "    total_loss = 0\n",
    "    ac = 0\n",
    "    for data, label in train_data:\n",
    "        with ag.record():\n",
    "            output = net(data)\n",
    "            loss = cross_entropy(output, label)\n",
    "        loss.backward()\n",
    "        SGD(params, learning_ratio/batch_size)\n",
    "        \n",
    "        total_loss += loss.mean().asscalar()\n",
    "        ac += accuracy(output, label)\n",
    "    \n",
    "    ac_t = evaluate_accruacy(test_data, net)\n",
    "    print(\"Epoch {:d}. Loss: {:f}, Train acc {:f}, Test acc {:f}\".format(\n",
    "        e, total_loss/len(train_data), ac/len(train_data), ac_t))"
   ]
  },
  {
   "cell_type": "code",
   "execution_count": 60,
   "metadata": {},
   "outputs": [
    {
     "data": {
      "image/png": "[encoded data removed]",
      "text/plain": [
       "<matplotlib.figure.Figure at 0x7f1484afde48>"
      ]
     },
     "metadata": {},
     "output_type": "display_data"
    },
    {
     "name": "stdout",
     "output_type": "stream",
     "text": [
      "['pullover', 't-shirt', 'coat', 'shirt', 'pullover', 't-shirt', 'dress,', 'dress,', 'pullover', 'dress,']\n",
      "['shirt', 't-shirt', 'coat', 'pullover', 'pullover', 't-shirt', 'dress,', 'dress,', 'pullover', 'dress,']\n"
     ]
    }
   ],
   "source": [
    "sidx = 40\n",
    "\n",
    "data, label = mnist_test[sidx:min(sidx+10, len(mnist_test))]\n",
    "label_p = net(data).argmax(axis=1).asnumpy()\n",
    "show_images(data)\n",
    "print(get_text_labels(label))\n",
    "print(get_text_labels(label_p))"
   ]
  },
  {
   "cell_type": "markdown",
   "metadata": {},
   "source": [
    "### Gluon method"
   ]
  },
  {
   "cell_type": "code",
   "execution_count": 9,
   "metadata": {},
   "outputs": [
    {
     "name": "stdout",
     "output_type": "stream",
     "text": [
      "Epoch 0. Loss: 0.791820, Train acc 0.743855, Test acc 0.805253\n",
      "Epoch 1. Loss: 0.576155, Train acc 0.809458, Test acc 0.822872\n",
      "Epoch 2. Loss: 0.530755, Train acc 0.823221, Test acc 0.829422\n",
      "Epoch 3. Loss: 0.506343, Train acc 0.828485, Test acc 0.832995\n",
      "Epoch 4. Loss: 0.490279, Train acc 0.833987, Test acc 0.833522\n"
     ]
    }
   ],
   "source": [
    "net = gluon.nn.Sequential()\n",
    "\n",
    "batch_size = 256\n",
    "with net.name_scope():\n",
    "    net.add(gluon.nn.Flatten())\n",
    "    net.add(gluon.nn.Dense(10))\n",
    "\n",
    "net.initialize()\n",
    "\n",
    "softmax_cross_entropy = gluon.loss.SoftmaxCrossEntropyLoss()\n",
    "trainer = gluon.Trainer(net.collect_params(), 'sgd', {'learning_rate': 0.1})\n",
    "\n",
    "epochs = 5\n",
    "\n",
    "for e in range(epochs):\n",
    "    total_loss = 0\n",
    "    ac = 0\n",
    "    for data, label in train_data:\n",
    "        with ag.record():\n",
    "            output = net(data)\n",
    "            loss = softmax_cross_entropy(output, label)\n",
    "        loss.backward()\n",
    "        trainer.step(batch_size)\n",
    "        \n",
    "        total_loss += loss.mean().asscalar()\n",
    "        ac += accuracy(output, label)\n",
    "    \n",
    "    ac_t = evaluate_accruacy(test_data, net)\n",
    "    print(\"Epoch {:d}. Loss: {:f}, Train acc {:f}, Test acc {:f}\".format(\n",
    "        e, total_loss/len(train_data), ac/len(train_data), ac_t))   "
   ]
  },
  {
   "cell_type": "markdown",
   "metadata": {},
   "source": [
    "## 多层感知机"
   ]
  },
  {
   "cell_type": "code",
   "execution_count": 43,
   "metadata": {},
   "outputs": [
    {
     "name": "stdout",
     "output_type": "stream",
     "text": [
      "Epoch 0. Loss: 1.057114, Train acc 0.638597, Test acc 0.765703\n",
      "Epoch 1. Loss: 0.603081, Train acc 0.787378, Test acc 0.819127\n",
      "Epoch 2. Loss: 0.526642, Train acc 0.814993, Test acc 0.830779\n",
      "Epoch 3. Loss: 0.486906, Train acc 0.828674, Test acc 0.838492\n",
      "Epoch 4. Loss: 0.458965, Train acc 0.838636, Test acc 0.845434\n"
     ]
    }
   ],
   "source": [
    "num_inputs = 28 * 28\n",
    "num_ouput = 10\n",
    "num_hidden = 256\n",
    "weight_scale = 0.01\n",
    "\n",
    "W1 = nd.random_normal(shape=(num_inputs, num_hidden), scale=weight_scale)\n",
    "b1 = nd.zeros(num_hidden)\n",
    "W2 = nd.random_normal(shape=(num_hidden, num_ouput), scale=weight_scale)\n",
    "b2 = nd.zeros(num_outputs)\n",
    "\n",
    "params = [W1, b1, W2, b2]\n",
    "for param in params:\n",
    "    param.attach_grad()\n",
    "\n",
    "def relu(X):\n",
    "    return nd.maximum(X, 0)\n",
    "\n",
    "def net(X):\n",
    "    X = X.reshape((-1, num_inputs))\n",
    "    h1 = relu(nd.dot(X, W1) + b1)\n",
    "    output = nd.dot(h1, W2) + b2\n",
    "    \n",
    "    return output\n",
    "\n",
    "def SGD(params, lr):\n",
    "    for param in params:\n",
    "        param[:] = param - lr * param.grad\n",
    "\n",
    "softmax_cross_entropy = gluon.loss.SoftmaxCrossEntropyLoss()\n",
    "\n",
    "epochs = 5\n",
    "batch_size = 256\n",
    "\n",
    "for e in range(epochs):\n",
    "    total_loss = 0\n",
    "    ac = 0\n",
    "    for data, label in train_data:\n",
    "        with ag.record():\n",
    "            output = net(data)\n",
    "            loss = softmax_cross_entropy(output, label)\n",
    "        loss.backward()\n",
    "        SGD(params, learning_ratio/batch_size)\n",
    "        \n",
    "        total_loss += loss.mean().asscalar()\n",
    "        ac += accuracy(output, label)\n",
    "    \n",
    "    ac_t = evaluate_accruacy(test_data, net)\n",
    "    print(\"Epoch {:d}. Loss: {:f}, Train acc {:f}, Test acc {:f}\".format(\n",
    "        e, total_loss/len(train_data), ac/len(train_data), ac_t))   "
   ]
  },
  {
   "cell_type": "code",
   "execution_count": 53,
   "metadata": {},
   "outputs": [
    {
     "name": "stdout",
     "output_type": "stream",
     "text": [
      "Epoch 0. Loss: 0.716510, Train acc 0.737284, Test acc 0.837395\n",
      "Epoch 1. Loss: 0.468513, Train acc 0.825327, Test acc 0.850903\n",
      "Epoch 2. Loss: 0.406054, Train acc 0.850305, Test acc 0.856643\n",
      "Epoch 3. Loss: 0.378096, Train acc 0.860594, Test acc 0.874269\n",
      "Epoch 4. Loss: 0.356758, Train acc 0.868816, Test acc 0.882862\n"
     ]
    }
   ],
   "source": [
    "num_inputs = 28 * 28\n",
    "num_ouput = 10\n",
    "num_hidden = 256\n",
    "weight_scale = 0.01\n",
    "\n",
    "net = gluon.nn.Sequential()\n",
    "with net.name_scope():\n",
    "    net.add(gluon.nn.Flatten())\n",
    "    net.add(gluon.nn.Dense(256, activation='relu'))\n",
    "    net.add(gluon.nn.Dense(10))\n",
    "\n",
    "net.initialize()\n",
    "\n",
    "def SGD(params, lr):\n",
    "    for param in params:\n",
    "        param[:] = param - lr * param.grad\n",
    "\n",
    "softmax_cross_entropy = gluon.loss.SoftmaxCrossEntropyLoss()\n",
    "\n",
    "trainer = gluon.trainer.Trainer(net.collect_params(), 'sgd', {'learning_rate': 0.5})\n",
    "epochs = 5\n",
    "batch_size = 256\n",
    "\n",
    "for e in range(epochs):\n",
    "    total_loss = 0\n",
    "    ac = 0\n",
    "    for data, label in train_data:\n",
    "        with ag.record():\n",
    "            output = net(data)\n",
    "            loss = softmax_cross_entropy(output, label)\n",
    "        loss.backward()\n",
    "        trainer.step(batch_size)\n",
    "        \n",
    "        total_loss += loss.mean().asscalar()\n",
    "        ac += accuracy(output, label)\n",
    "    \n",
    "    ac_t = evaluate_accruacy(test_data, net)\n",
    "    print(\"Epoch {:d}. Loss: {:f}, Train acc {:f}, Test acc {:f}\".format(\n",
    "        e, total_loss/len(train_data), ac/len(train_data), ac_t))"
   ]
  },
  {
   "cell_type": "code",
   "execution_count": 57,
   "metadata": {},
   "outputs": [
    {
     "name": "stdout",
     "output_type": "stream",
     "text": [
      "Sequential(\n",
      "  (0): Flatten\n",
      "  (1): Dense(784 -> 256, Activation(relu))\n",
      "  (2): Dense(256 -> 10, linear)\n",
      ")\n"
     ]
    }
   ],
   "source": [
    "print(net)"
   ]
  },
  {
   "cell_type": "code",
   "execution_count": 58,
   "metadata": {},
   "outputs": [
    {
     "name": "stdout",
     "output_type": "stream",
     "text": [
      "['__call__', '__class__', '__delattr__', '__dict__', '__dir__', '__doc__', '__eq__', '__format__', '__ge__', '__getattribute__', '__getitem__', '__gt__', '__hash__', '__init__', '__init_subclass__', '__le__', '__len__', '__lt__', '__module__', '__ne__', '__new__', '__reduce__', '__reduce_ex__', '__repr__', '__setattr__', '__sizeof__', '__str__', '__subclasshook__', '__weakref__', '_alias', '_check_container_with_block', '_children', '_empty_prefix', '_name', '_params', '_prefix', '_scope', 'add', 'cast', 'collect_params', 'forward', 'hybridize', 'initialize', 'load_params', 'name', 'name_scope', 'params', 'prefix', 'register_child', 'save_params']\n"
     ]
    }
   ],
   "source": [
    "print(dir(net))"
   ]
  },
  {
   "cell_type": "code",
   "execution_count": 59,
   "metadata": {},
   "outputs": [
    {
     "data": {
      "text/plain": [
       "\u001b[0;31mSignature:\u001b[0m \u001b[0mnd\u001b[0m\u001b[0;34m.\u001b[0m\u001b[0mActivation\u001b[0m\u001b[0;34m(\u001b[0m\u001b[0mdata\u001b[0m\u001b[0;34m=\u001b[0m\u001b[0;32mNone\u001b[0m\u001b[0;34m,\u001b[0m \u001b[0mact_type\u001b[0m\u001b[0;34m=\u001b[0m\u001b[0m_Null\u001b[0m\u001b[0;34m,\u001b[0m \u001b[0mout\u001b[0m\u001b[0;34m=\u001b[0m\u001b[0;32mNone\u001b[0m\u001b[0;34m,\u001b[0m \u001b[0mname\u001b[0m\u001b[0;34m=\u001b[0m\u001b[0;32mNone\u001b[0m\u001b[0;34m,\u001b[0m \u001b[0;34m**\u001b[0m\u001b[0mkwargs\u001b[0m\u001b[0;34m)\u001b[0m\u001b[0;34m\u001b[0m\u001b[0m\n",
       "\u001b[0;31mDocstring:\u001b[0m\n",
       "Applies an activation function element-wise to the input.\n",
       "\n",
       "The following activation functions are supported:\n",
       "\n",
       "- `relu`: Rectified Linear Unit, :math:`y = max(x, 0)`\n",
       "- `sigmoid`: :math:`y = \\frac{1}{1 + exp(-x)}`\n",
       "- `tanh`: Hyperbolic tangent, :math:`y = \\frac{exp(x) - exp(-x)}{exp(x) + exp(-x)}`\n",
       "- `softrelu`: Soft ReLU, or SoftPlus, :math:`y = log(1 + exp(x))`\n",
       "- `softsign`: :math:`y = \\frac{x}{1 + abs(x)}`\n",
       "\n",
       "\n",
       "\n",
       "Defined in src/operator/nn/activation.cc:L154\n",
       "\n",
       "Parameters\n",
       "----------\n",
       "data : NDArray\n",
       "    The input array.\n",
       "act_type : {'relu', 'sigmoid', 'softrelu', 'softsign', 'tanh'}, required\n",
       "    Activation function to be applied.\n",
       "\n",
       "out : NDArray, optional\n",
       "    The output NDArray to hold the result.\n",
       "\n",
       "Returns\n",
       "-------\n",
       "out : NDArray or list of NDArrays\n",
       "    The output of this function.\n",
       "\u001b[0;31mFile:\u001b[0m      Dynamically generated function. No source code available.\n",
       "\u001b[0;31mType:\u001b[0m      function\n"
      ]
     },
     "metadata": {},
     "output_type": "display_data"
    }
   ],
   "source": [
    "?nd.Activation"
   ]
  },
  {
   "cell_type": "code",
   "execution_count": null,
   "metadata": {},
   "outputs": [],
   "source": []
  }
 ],
 "metadata": {
  "kernelspec": {
   "display_name": "Python 3",
   "language": "python",
   "name": "python3"
  },
  "language_info": {
   "codemirror_mode": {
    "name": "ipython",
    "version": 3
   },
   "file_extension": ".py",
   "mimetype": "text/x-python",
   "name": "python",
   "nbconvert_exporter": "python",
   "pygments_lexer": "ipython3",
   "version": "3.6.2"
  }
 },
 "nbformat": 4,
 "nbformat_minor": 2
}
