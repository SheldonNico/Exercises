{
 "cells": [
  {
   "cell_type": "code",
   "execution_count": 1,
   "metadata": {},
   "outputs": [
    {
     "name": "stderr",
     "output_type": "stream",
     "text": [
      "/home/xnie/.anaconda3/lib/python3.6/site-packages/h5py/__init__.py:36: FutureWarning: Conversion of the second argument of issubdtype from `float` to `np.floating` is deprecated. In future, it will be treated as `np.float64 == np.dtype(float).type`.\n",
      "  from ._conv import register_converters as _register_converters\n"
     ]
    }
   ],
   "source": [
    "from omega.dataBase import EOD\n",
    "import matplotlib.pyplot as plt\n",
    "import numpy as np\n",
    "import random\n",
    "\n",
    "%matplotlib inline"
   ]
  },
  {
   "cell_type": "code",
   "execution_count": 2,
   "metadata": {},
   "outputs": [],
   "source": [
    "rb888 = EOD(\"rb888\", \"15min\")"
   ]
  },
  {
   "cell_type": "code",
   "execution_count": 7,
   "metadata": {},
   "outputs": [],
   "source": [
    "def dist_ed(x1, y1, x3, y3, x2, y2):\n",
    "    return np.sqrt(np.power(x2-x1, 2)+np.power(y2-y1, 2)) + np.sqrt(np.power(x3-x2, 2)+np.power(y3-y2, 2))\n",
    "def dist_pd(x1, y1, x3, y3, x2, y2):\n",
    "    \"x3 should never be the same as x1\"\n",
    "    s = (y3-y1) / (x3-x1)\n",
    "    xc = (x2 + s*y2 + s**2*x3-s*y3) / (1+s**2)\n",
    "    yc = s*xc - s*x3+y3\n",
    "    return np.sqrt(np.power(xc-x2, 2)+np.power(yc-y2, 2))\n",
    "def dist_vd(x1, y1, x3, y3, x2, y2):\n",
    "    \"x3 should never be the same as x1\"\n",
    "    s = (y3-y1) / (x3-x1)\n",
    "    return np.abs(y1+(x2-x1)*s-y2)\n",
    "\n",
    "def filter_pip(xarr, yarr, k=3):\n",
    "    if xarr.shape != yarr.shape or xarr.shape[0] <= k:\n",
    "        raise ValueError(\"xarr should have the same length as yarr\")\n",
    "        \n",
    "    num = xarr.shape[0]\n",
    "    out = [0, num-1]\n",
    "    \n",
    "    while len(out) < k:\n",
    "        wgts = np.zeros(num)\n",
    "        for sidx, eidx in zip(out[:-1], out[1:]):\n",
    "            if sidx+1 == eidx:\n",
    "                continue\n",
    "            ed = dist_ed(xarr[sidx], yarr[sidx], xarr[eidx], yarr[eidx], xarr[sidx+1:eidx], yarr[sidx+1:eidx])\n",
    "            pd = dist_pd(xarr[sidx], yarr[sidx], xarr[eidx], yarr[eidx], xarr[sidx+1:eidx], yarr[sidx+1:eidx])\n",
    "            vd = dist_vd(xarr[sidx], yarr[sidx], xarr[eidx], yarr[eidx], xarr[sidx+1:eidx], yarr[sidx+1:eidx])\n",
    "            wgts[sidx+1:eidx] = np.max([ed, pd, vd], axis=0)\n",
    "            \n",
    "        next_id = np.argmax(wgts)\n",
    "        \n",
    "        if next_id in out:\n",
    "            print(\"Should not happen in common data\")\n",
    "            next_id = 0\n",
    "            while next_id in out:\n",
    "                next_id = np.random.randint(0, num)\n",
    "\n",
    "        out.append(next_id)\n",
    "        out.sort()\n",
    "    \n",
    "    return np.array(out)"
   ]
  },
  {
   "cell_type": "code",
   "execution_count": 8,
   "metadata": {},
   "outputs": [
    {
     "data": {
      "text/plain": [
       "<matplotlib.legend.Legend at 0x7f655f1cc828>"
      ]
     },
     "execution_count": 8,
     "metadata": {},
     "output_type": "execute_result"
    },
    {
     "data": {
      "image/png": "[encoded data removed]",
      "text/plain": [
       "<Figure size 432x288 with 1 Axes>"
      ]
     },
     "metadata": {},
     "output_type": "display_data"
    }
   ],
   "source": [
    "num = 1000\n",
    "xarr = np.arange(200)\n",
    "yarr = rb888.open[num:num+200]\n",
    "\n",
    "out = filter_pip(xarr, yarr, 10)\n",
    "\n",
    "plt.plot(xarr, yarr, label=\"Real\")\n",
    "plt.plot(xarr[out], yarr[out], label=\"PIP\")\n",
    "plt.title(\"PIP Finding Example(on rb888, n=200, k=10)\")\n",
    "plt.legend()\n",
    "# plt.savefig(\"pip examples.jpg\")"
   ]
  },
  {
   "cell_type": "code",
   "execution_count": 9,
   "metadata": {},
   "outputs": [],
   "source": [
    "def data_iter(data, train_window = 500, predict_window = 500):\n",
    "    \n",
    "    num = data.info.maxlen\n",
    "    indices = list(range(train_window, num-predict_window))\n",
    "    \n",
    "    for i in indices:\n",
    "        train = data[i-train_window:i]\n",
    "        predict = data[i-train_window:i+predict_window]\n",
    "        yield train, predict"
   ]
  },
  {
   "cell_type": "code",
   "execution_count": 10,
   "metadata": {},
   "outputs": [
    {
     "data": {
      "text/plain": [
       "(40534, 6, 1)"
      ]
     },
     "execution_count": 10,
     "metadata": {},
     "output_type": "execute_result"
    }
   ],
   "source": [
    "rb888.shape"
   ]
  },
  {
   "cell_type": "markdown",
   "metadata": {},
   "source": [
    "## DTW/PLA Method"
   ]
  },
  {
   "cell_type": "code",
   "execution_count": 12,
   "metadata": {},
   "outputs": [],
   "source": [
    "from strategy import MACD, ATR"
   ]
  },
  {
   "cell_type": "code",
   "execution_count": 17,
   "metadata": {},
   "outputs": [
    {
     "name": "stdout",
     "output_type": "stream",
     "text": [
      "current @ 2008-05-28T11:00 -0.6168473614960163\n",
      "current @ 2008-06-06T09:30 0.6088304673147511\n",
      "current @ 2008-06-17T14:15 -3.3290744213750427\n",
      "current @ 2008-06-26T11:00 2.628087104016612\n",
      "current @ 2008-07-07T09:30 6.5049128653438695\n",
      "current @ 2008-07-15T14:15 6.232979482954179\n",
      "current @ 2008-07-24T11:00 4.61047847730649\n",
      "current @ 2008-08-04T09:30 6.8503678788252635\n",
      "current @ 2008-08-12T14:15 4.515287906811427\n",
      "current @ 2008-08-21T11:00 0.49579419074982806\n",
      "current @ 2008-09-01T09:30 0.7254287801344181\n",
      "current @ 2008-09-09T14:15 0.20236075274269538\n",
      "current @ 2008-09-19T11:00 1.639364084859236\n",
      "current @ 2008-10-07T10:30 0.5881621732748666\n",
      "current @ 2008-10-20T09:15 -1.4964951503280257\n",
      "current @ 2008-10-28T14:15 1.4494656907864936\n",
      "current @ 2008-11-06T11:00 0.7894339377797226\n",
      "current @ 2008-11-17T09:30 -0.7338226899462651\n",
      "current @ 2008-11-26T09:00 0.780528093114938\n",
      "current @ 2008-12-04T13:45 1.4056228474136268\n"
     ]
    }
   ],
   "source": [
    "train_window = 500\n",
    "predict_window = 500\n",
    "data = EOD(\"ru888\", \"15min\")\n",
    "\n",
    "# sig = MACD()\n",
    "sig = ATR()\n",
    "sig.max_cached = train_window\n",
    "\n",
    "features_width = int(0.05*train_window)\n",
    "features_height = 2000\n",
    "\n",
    "features_X = np.zeros((features_height, features_width))\n",
    "features_Y = np.zeros((features_height, features_width))\n",
    "labels = np.zeros(features_height)\n",
    "for i, (t, p) in enumerate(data_iter(data, train_window, predict_window)):\n",
    "    if i >= features_height:\n",
    "        break\n",
    "        \n",
    "    re = sig._on(p)\n",
    "    xarr = np.arange(train_window)\n",
    "    yarr = t.close\n",
    "    labels[i] = re.indicators[\"summary\"][\"sharpe_ratio_net\"]\n",
    "    indices = filter_pip(xarr, yarr, features_width)\n",
    "    features_X[i, :] = xarr[indices]\n",
    "    features_Y[i, :] = yarr[indices]\n",
    "\n",
    "    if i % 100 == 0:\n",
    "        print(\"current @\", t.info.start, labels[i])"
   ]
  },
  {
   "cell_type": "markdown",
   "metadata": {},
   "source": [
    "### PLA"
   ]
  },
  {
   "cell_type": "code",
   "execution_count": 19,
   "metadata": {},
   "outputs": [
    {
     "name": "stdout",
     "output_type": "stream",
     "text": [
      "finished @ 1000 with wgts: (1000,) ?is normalize: 1.0\n",
      "finished @ 1100 with wgts: (1000,) ?is normalize: 0.9999999999999999\n",
      "finished @ 1200 with wgts: (1000,) ?is normalize: 0.9999999999999997\n",
      "finished @ 1300 with wgts: (1000,) ?is normalize: 1.0\n",
      "finished @ 1400 with wgts: (1000,) ?is normalize: 1.0000000000000002\n",
      "finished @ 1500 with wgts: (1000,) ?is normalize: 1.0\n",
      "finished @ 1600 with wgts: (1000,) ?is normalize: 1.0\n",
      "finished @ 1700 with wgts: (1000,) ?is normalize: 1.0\n",
      "finished @ 1800 with wgts: (1000,) ?is normalize: 1.0\n",
      "finished @ 1900 with wgts: (1000,) ?is normalize: 1.0\n"
     ]
    }
   ],
   "source": [
    "def calculate_pla(obj, dis_arr):\n",
    "    \"obj is nx1, dis_arr is mxn\"\n",
    "    out = dis_arr - obj\n",
    "    return np.sum(out**2, axis=1)\n",
    "\n",
    "mid = features_height//2\n",
    "predict = np.zeros(features_height)\n",
    "for i in range(mid, features_height):\n",
    "    obj = features_Y[i, :]\n",
    "    dis = features_Y[:mid, :] # np.delete(features_Y, i, axis=0)\n",
    "    la = labels[i]\n",
    "    las = labels[:mid]\n",
    "    \n",
    "    wgts = 1 / calculate_pla(obj, dis)\n",
    "    wgts = wgts / wgts.sum()\n",
    "    predict[i] = np.sum(wgts * las)\n",
    "\n",
    "    if i % 100 == 0:\n",
    "        print(\"finished @\", i, \"with wgts:\", wgts.shape, \"?is normalize:\", wgts.sum())"
   ]
  },
  {
   "cell_type": "code",
   "execution_count": 20,
   "metadata": {},
   "outputs": [
    {
     "data": {
      "text/plain": [
       "[<matplotlib.lines.Line2D at 0x7f6556c33908>]"
      ]
     },
     "execution_count": 20,
     "metadata": {},
     "output_type": "execute_result"
    },
    {
     "data": {
      "image/png": "[encoded data removed]",
      "text/plain": [
       "<Figure size 432x288 with 1 Axes>"
      ]
     },
     "metadata": {},
     "output_type": "display_data"
    }
   ],
   "source": [
    "plt.plot(predict, labels, '.')"
   ]
  },
  {
   "cell_type": "markdown",
   "metadata": {},
   "source": [
    "### DTW"
   ]
  },
  {
   "cell_type": "code",
   "execution_count": 18,
   "metadata": {},
   "outputs": [],
   "source": [
    "from fastdtw import fastdtw"
   ]
  },
  {
   "cell_type": "code",
   "execution_count": 23,
   "metadata": {},
   "outputs": [
    {
     "name": "stderr",
     "output_type": "stream",
     "text": [
      "/home/xnie/.anaconda3/lib/python3.6/site-packages/ipykernel_launcher.py:7: FutureWarning: Conversion of the second argument of issubdtype from `float` to `np.floating` is deprecated. In future, it will be treated as `np.float64 == np.dtype(float).type`.\n",
      "  import sys\n"
     ]
    },
    {
     "name": "stdout",
     "output_type": "stream",
     "text": [
      "finished @ 0 with wgts: (999,) ?is normalize: 0.9999999999999999\n",
      "finished @ 100 with wgts: (999,) ?is normalize: 0.9999999999999999\n",
      "finished @ 200 with wgts: (999,) ?is normalize: 1.0000000000000002\n",
      "finished @ 300 with wgts: (999,) ?is normalize: 0.9999999999999998\n",
      "finished @ 400 with wgts: (999,) ?is normalize: 0.9999999999999999\n",
      "finished @ 500 with wgts: (999,) ?is normalize: 1.0\n",
      "finished @ 600 with wgts: (999,) ?is normalize: 1.0\n",
      "finished @ 700 with wgts: (999,) ?is normalize: 1.0\n",
      "finished @ 800 with wgts: (999,) ?is normalize: 1.0\n",
      "finished @ 900 with wgts: (999,) ?is normalize: 1.0\n"
     ]
    }
   ],
   "source": [
    "def calculate_dtw(obj, dis_arr):\n",
    "    \"obj is nx1, dis_arr is mxn\"\n",
    "    out = np.zeros(dis_arr.shape[0])\n",
    "    \n",
    "    for i in range(out.shape[0]):\n",
    "        # print(obj, dis_arr[i, :, :])\n",
    "        distance, _ = fastdtw(obj, dis_arr[i, :, :])\n",
    "        out[i] = distance\n",
    "    \n",
    "    return out\n",
    "\n",
    "mid = features_height//2\n",
    "predict = np.zeros(features_height)\n",
    "for i in range(mid, features_height):\n",
    "    obj_Y = features_Y[i, :]\n",
    "    obj_X = features_X[i, :]\n",
    "    obj = np.column_stack((obj_X, obj_Y))\n",
    "    \n",
    "    dis_X = features_X[:mid, :, :]# np.delete(features_X, i, axis=0)\n",
    "    dis_Y = features_Y[:mid, :, :]#np.delete(features_Y, i, axis=0)\n",
    "    dis = np.stack((dis_X, dis_Y), axis=2)\n",
    "    la = labels[i]\n",
    "    las = labels[:mid]# np.delete(labels, i)\n",
    "    \n",
    "    wgts = 1 / calculate_dtw(obj, dis)\n",
    "    wgts = wgts / wgts.sum()\n",
    "    predict[i] = np.sum(wgts * las)\n",
    "    if i % 100 == 0:\n",
    "        print(\"finished @\", i, \"with wgts:\", wgts.shape, \"?is normalize:\", wgts.sum())"
   ]
  },
  {
   "cell_type": "code",
   "execution_count": null,
   "metadata": {},
   "outputs": [],
   "source": []
  }
 ],
 "metadata": {
  "kernelspec": {
   "display_name": "Python 3",
   "language": "python",
   "name": "python3"
  },
  "language_info": {
   "codemirror_mode": {
    "name": "ipython",
    "version": 3
   },
   "file_extension": ".py",
   "mimetype": "text/x-python",
   "name": "python",
   "nbconvert_exporter": "python",
   "pygments_lexer": "ipython3",
   "version": "3.6.4"
  }
 },
 "nbformat": 4,
 "nbformat_minor": 2
}
